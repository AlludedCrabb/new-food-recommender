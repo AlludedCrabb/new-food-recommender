{
 "cells": [
  {
   "cell_type": "markdown",
   "metadata": {},
   "source": [
    "I start off by importing the libraries I'm going to need for webscraping, EDA, and modeling. I also import my custom functions from a .py file"
   ]
  },
  {
   "cell_type": "code",
   "execution_count": 1,
   "metadata": {},
   "outputs": [],
   "source": [
    "from selenium.webdriver import Chrome\n",
    "import json\n",
    "import pandas as pd\n",
    "import gensim\n",
    "import pickle\n",
    "import functions as fc"
   ]
  },
  {
   "cell_type": "markdown",
   "metadata": {},
   "source": [
    "I then set up the web scraper with ease of access to a web blocker to install on the selenium instance. I do this because ads interfered with my webscraper on early attemtps. the urls below link to the main catagories on Allrecipes.com"
   ]
  },
  {
   "cell_type": "code",
   "execution_count": 2,
   "metadata": {},
   "outputs": [],
   "source": [
    "# browser = Chrome()\n",
    "\n",
    "\n",
    "# urls = [\"https://www.allrecipes.com/recipes/76/appetizers-and-snacks/\",\n",
    "#         \"https://www.allrecipes.com/recipes/156/bread/\",\n",
    "#         \"https://www.allrecipes.com/recipes/78/breakfast-and-brunch/\",\n",
    "#         \"https://www.allrecipes.com/recipes/276/desserts/cakes/\",\n",
    "#         \"https://www.allrecipes.com/recipes/201/meat-and-poultry/chicken/\",\n",
    "#         \"https://www.allrecipes.com/recipes/362/desserts/cookies/\",\n",
    "#         \"https://www.allrecipes.com/recipes/430/seafood/shellfish/shrimp/\",\n",
    "#         \"https://www.allrecipes.com/recipes/253/everyday-cooking/slow-cooker/\",\n",
    "#         \"https://www.allrecipes.com/recipes/1227/everyday-cooking/vegan/\",\n",
    "#         \"https://www.allrecipes.com/recipes/86/world-cuisine/\"]\n",
    "\n",
    "# browser.set_page_load_timeout(300)\n",
    "# browser.get('https://chrome.google.com/webstore/detail/adblock/gighmmpiobklfepjocnamgkkbiglidom')"
   ]
  },
  {
   "cell_type": "markdown",
   "metadata": {},
   "source": [
    "Below I have the selenium instance go to each url. Each url is a list page that doesn't load until you scrol down, so I have the instance scroll down a handful of times, then copy the links from each list entry. Once this is done, the instance goes from link to link to copy the recipe information from the appropriate html tags\n"
   ]
  },
  {
   "cell_type": "code",
   "execution_count": 3,
   "metadata": {
    "scrolled": false
   },
   "outputs": [],
   "source": [
    "# for url in urls:\n",
    "#     print(url)\n",
    "#     browser.get(url)\n",
    "\n",
    "#     for _ in range(6):\n",
    "#         browser.execute_script(\"window.scrollTo(0, document.body.scrollHeight);\")\n",
    "#         time.sleep(3 + random.random()*10)\n",
    "\n",
    "#     link_list = browser.find_elements_by_xpath('//*[contains(@class,\"fixed-recipe-card__info\")]/a')\n",
    "\n",
    "#     recipe_page_list = [link.get_attribute('href') for link in link_list]\n",
    "\n",
    "#     len(recipe_page_list)\n",
    "\n",
    "#     with open('recipes_list.json', 'a') as f:\n",
    "\n",
    "\n",
    "#         for recipe in recipe_page_list:\n",
    "\n",
    "#             browser.get(recipe)\n",
    "\n",
    "#             recipe_dict = {}\n",
    "            \n",
    "#             try:\n",
    "#                 recipe_dict['title'] = browser.find_element_by_xpath('//*[@id=\"recipe-main-content\"]').text\n",
    "#             except:\n",
    "#                 recipe_dict['title'] = browser.find_element_by_xpath('//*[contains(@class, \"intro article-info\")]/h1').text\n",
    "            \n",
    "#             try:\n",
    "#                 lala_list = browser.find_elements_by_xpath('//*[contains(@id,\"lst_ingred\")]')\n",
    "#                 item_list = []\n",
    "#                 for element in lala_list:\n",
    "\n",
    "#                     item_list += element.find_elements_by_css_selector('span')\n",
    "\n",
    "#                 ingredients = [item.text for item in item_list[:-1]]\n",
    "#                 recipe_dict['ingredients'] = ingredients\n",
    "            \n",
    "#             except:\n",
    "#                 lala_list = browser.find_elements_by_xpath('//*[contains(@class, \"ingredients-item-name\")]')\n",
    "\n",
    "#                 ingredients = [item.text for item in lala_list]\n",
    "#                 recipe_dict['ingredients'] = ingredients\n",
    "\n",
    "#             json.dump(recipe_dict, f)\n",
    "#             f.write('\\n')\n",
    "#             time.sleep(3 + random.random()*10)"
   ]
  },
  {
   "cell_type": "markdown",
   "metadata": {},
   "source": [
    "Now I bring the data in line by line from the json file it was stored in during scraping"
   ]
  },
  {
   "cell_type": "code",
   "execution_count": 4,
   "metadata": {},
   "outputs": [],
   "source": [
    "data = []\n",
    "with open('recipes_list.json') as file:\n",
    "    for line in file:\n",
    "        data.append(json.loads(line))\n"
   ]
  },
  {
   "cell_type": "markdown",
   "metadata": {},
   "source": [
    "Load it into a pandas dataframe for EDA"
   ]
  },
  {
   "cell_type": "code",
   "execution_count": 5,
   "metadata": {},
   "outputs": [],
   "source": [
    "df = pd.DataFrame(data)"
   ]
  },
  {
   "cell_type": "code",
   "execution_count": 6,
   "metadata": {},
   "outputs": [
    {
     "name": "stdout",
     "output_type": "stream",
     "text": [
      "<class 'pandas.core.frame.DataFrame'>\n",
      "RangeIndex: 929 entries, 0 to 928\n",
      "Data columns (total 2 columns):\n",
      "ingredients    929 non-null object\n",
      "title          929 non-null object\n",
      "dtypes: object(2)\n",
      "memory usage: 14.6+ KB\n"
     ]
    }
   ],
   "source": [
    "df.info()"
   ]
  },
  {
   "cell_type": "markdown",
   "metadata": {},
   "source": [
    "Some of the recipes scraped came back empty. Below I find their indices"
   ]
  },
  {
   "cell_type": "code",
   "execution_count": 7,
   "metadata": {
    "scrolled": false
   },
   "outputs": [
    {
     "name": "stdout",
     "output_type": "stream",
     "text": [
      "[]\n",
      "['', '', '', '', '', '', '', '', '', '']\n",
      "[]\n",
      "[]\n",
      "[]\n",
      "[]\n",
      "[]\n",
      "[]\n",
      "[]\n",
      "[]\n",
      "[]\n",
      "[]\n",
      "[]\n",
      "[]\n",
      "[]\n",
      "[60, 136, 217, 220, 222, 251, 436, 441, 509, 710, 713, 731, 778, 788, 867]\n"
     ]
    }
   ],
   "source": [
    "indices_list = []\n",
    "for i in range(len(df.ingredients)):\n",
    "    \n",
    "        try: \n",
    "            if df.ingredients[i][0] == '':\n",
    "                print(df.ingredients[i])\n",
    "                indices_list.append(i)\n",
    "                \n",
    "        except IndexError:\n",
    "            print(df.ingredients[i])\n",
    "            indices_list.append(i)\n",
    "\n",
    "\n",
    "print(indices_list)"
   ]
  },
  {
   "cell_type": "markdown",
   "metadata": {},
   "source": [
    "Drop the empty recipes and reindex the dataframe"
   ]
  },
  {
   "cell_type": "code",
   "execution_count": 8,
   "metadata": {},
   "outputs": [
    {
     "data": {
      "text/html": [
       "<div>\n",
       "<style scoped>\n",
       "    .dataframe tbody tr th:only-of-type {\n",
       "        vertical-align: middle;\n",
       "    }\n",
       "\n",
       "    .dataframe tbody tr th {\n",
       "        vertical-align: top;\n",
       "    }\n",
       "\n",
       "    .dataframe thead th {\n",
       "        text-align: right;\n",
       "    }\n",
       "</style>\n",
       "<table border=\"1\" class=\"dataframe\">\n",
       "  <thead>\n",
       "    <tr style=\"text-align: right;\">\n",
       "      <th></th>\n",
       "      <th>ingredients</th>\n",
       "      <th>title</th>\n",
       "    </tr>\n",
       "  </thead>\n",
       "  <tbody>\n",
       "    <tr>\n",
       "      <th>0</th>\n",
       "      <td>[2 pounds unpeeled large shrimp, 2 tablespoons...</td>\n",
       "      <td>Grilled Shrimp Scampi Cocktail</td>\n",
       "    </tr>\n",
       "    <tr>\n",
       "      <th>1</th>\n",
       "      <td>[cooking spray, 24 (1 inch) cubes fresh pineap...</td>\n",
       "      <td>Easy Rumaki with Pineapple</td>\n",
       "    </tr>\n",
       "    <tr>\n",
       "      <th>2</th>\n",
       "      <td>[2 tablespoons butter, 2 tablespoons minced gr...</td>\n",
       "      <td>Perfect Crab-Stuffed Mushrooms</td>\n",
       "    </tr>\n",
       "    <tr>\n",
       "      <th>3</th>\n",
       "      <td>[3 cups diced cooked rotisserie chicken, 2 (8 ...</td>\n",
       "      <td>Baked Buffalo Chicken Dip</td>\n",
       "    </tr>\n",
       "    <tr>\n",
       "      <th>4</th>\n",
       "      <td>[24 slices French baguette, 1 tablespoon butte...</td>\n",
       "      <td>Strawberry Bruschetta</td>\n",
       "    </tr>\n",
       "  </tbody>\n",
       "</table>\n",
       "</div>"
      ],
      "text/plain": [
       "                                         ingredients  \\\n",
       "0  [2 pounds unpeeled large shrimp, 2 tablespoons...   \n",
       "1  [cooking spray, 24 (1 inch) cubes fresh pineap...   \n",
       "2  [2 tablespoons butter, 2 tablespoons minced gr...   \n",
       "3  [3 cups diced cooked rotisserie chicken, 2 (8 ...   \n",
       "4  [24 slices French baguette, 1 tablespoon butte...   \n",
       "\n",
       "                            title  \n",
       "0  Grilled Shrimp Scampi Cocktail  \n",
       "1      Easy Rumaki with Pineapple  \n",
       "2  Perfect Crab-Stuffed Mushrooms  \n",
       "3       Baked Buffalo Chicken Dip  \n",
       "4           Strawberry Bruschetta  "
      ]
     },
     "execution_count": 8,
     "metadata": {},
     "output_type": "execute_result"
    }
   ],
   "source": [
    "to_be_reindexed_df = df.drop(indices_list)\n",
    "\n",
    "clean_df = to_be_reindexed_df.reset_index(drop=True)\n",
    "clean_df.head()"
   ]
  },
  {
   "cell_type": "code",
   "execution_count": 9,
   "metadata": {},
   "outputs": [
    {
     "data": {
      "text/plain": [
       "['2 pounds unpeeled large shrimp',\n",
       " '2 tablespoons olive oil',\n",
       " '1 teaspoon minced garlic',\n",
       " '1/4 teaspoon salt',\n",
       " '1/8 teaspoon freshly ground black pepper',\n",
       " '1 cup cocktail sauce',\n",
       " '1 lemon, cut into wedges']"
      ]
     },
     "execution_count": 9,
     "metadata": {},
     "output_type": "execute_result"
    }
   ],
   "source": [
    "clean_df.ingredients[0]"
   ]
  },
  {
   "cell_type": "markdown",
   "metadata": {},
   "source": [
    "Run my cleaning functions on the ingredients, removing amounts and measurements, as well as cooking stop words and some brand names. Then split into individual words"
   ]
  },
  {
   "cell_type": "code",
   "execution_count": 10,
   "metadata": {},
   "outputs": [],
   "source": [
    "clean_df.ingredients = clean_df.ingredients.map(fc.clean_ingredients)"
   ]
  },
  {
   "cell_type": "markdown",
   "metadata": {},
   "source": [
    "Vectorize ingredient words"
   ]
  },
  {
   "cell_type": "code",
   "execution_count": 11,
   "metadata": {},
   "outputs": [
    {
     "data": {
      "text/plain": [
       "<gensim.models.keyedvectors.Word2VecKeyedVectors at 0x1a17addcc0>"
      ]
     },
     "execution_count": 11,
     "metadata": {},
     "output_type": "execute_result"
    }
   ],
   "source": [
    "model = gensim.models.Word2Vec(clean_df.ingredients, sg=1)\n",
    "\n",
    "model.train(clean_df.ingredients,\n",
    "            total_examples=model.corpus_count,\n",
    "            epochs=model.epochs)\n",
    "\n",
    "model.corpus_total_words\n",
    "\n",
    "model.wv"
   ]
  },
  {
   "cell_type": "markdown",
   "metadata": {},
   "source": [
    "Test to see similar ingredient vectors"
   ]
  },
  {
   "cell_type": "code",
   "execution_count": 12,
   "metadata": {},
   "outputs": [
    {
     "data": {
      "text/plain": [
       "[('halfandhalf', 0.9920742511749268),\n",
       " ('Red', 0.9875002503395081),\n",
       " ('broccoli', 0.9862000942230225),\n",
       " ('potato', 0.9820783734321594),\n",
       " ('cottage', 0.9809982776641846),\n",
       " ('crabmeat', 0.9801045060157776),\n",
       " ('rolls', 0.9793604016304016),\n",
       " ('sage', 0.9788398146629333),\n",
       " ('Swiss', 0.9780725240707397),\n",
       " ('rounds', 0.974371612071991)]"
      ]
     },
     "execution_count": 12,
     "metadata": {},
     "output_type": "execute_result"
    }
   ],
   "source": [
    "model.wv.most_similar(positive=[\"bacon\",\"honey\",\"cheese\"])"
   ]
  },
  {
   "cell_type": "markdown",
   "metadata": {},
   "source": [
    "Function to return recipes with ingredient vectors similar to input vectors"
   ]
  },
  {
   "cell_type": "code",
   "execution_count": 13,
   "metadata": {
    "scrolled": false
   },
   "outputs": [
    {
     "name": "stdout",
     "output_type": "stream",
     "text": [
      "Choose an ingredient: milk\n",
      "Choose another: eggs\n",
      "And another: cheese\n",
      "Last one: bacon\n",
      "How adventurous are you feeling?\n",
      "            low, medium, or high? low\n",
      "\n",
      "\n",
      "I'll get you food similar to what you're used too\n",
      "\n",
      "\n",
      "\n",
      " Ingredients like yours: \n",
      "\n",
      " ['crackers', 'dough', 'biscuit', 'whipping', 'heavy', 'crumbs', 'syrup', 'pie', 'rolls', 'sour', 'yellow', 'liqueur', 'butter', 'halfandhalf', 'cranberries', 'Red', 'bread', 'cracker', 'maple', 'poppy']\n",
      "\n",
      "\n",
      " How about?  \n",
      "\n",
      " My Crab Cakes \n",
      "\n",
      " ['olive', 'oil', 'green', 'onions', 'olive', 'oil', 'crabmeat', 'egg', 'mayonnaise', 'mustard', 'crackers', 'cayenne', 'pepper', 'garlic', 'powder', 'Seasoning', 'salt', 'black', 'pepper', 'bread', 'crumbs', 'bread', 'crumbs'] \n",
      "\n",
      "\n",
      "\n",
      "\n",
      "Sound tasty? yes/no: yes\n"
     ]
    }
   ],
   "source": [
    "fc.sound_tasty(model, clean_df.ingredients, clean_df.title)"
   ]
  },
  {
   "cell_type": "markdown",
   "metadata": {},
   "source": [
    "Save model and columns to pickle files"
   ]
  },
  {
   "cell_type": "code",
   "execution_count": 14,
   "metadata": {},
   "outputs": [],
   "source": [
    "#pickle.dump(model, open('ingred_model.pkl', 'wb'))\n",
    "\n",
    "#pickle.dump(clean_df.ingredients, open('ingredients.pkl', 'wb'))\n",
    "\n",
    "#pickle.dump(clean_df.title, open('title.pkl', 'wb'))"
   ]
  }
 ],
 "metadata": {
  "kernelspec": {
   "display_name": "learn-env",
   "language": "python",
   "name": "learn-env"
  },
  "language_info": {
   "codemirror_mode": {
    "name": "ipython",
    "version": 3
   },
   "file_extension": ".py",
   "mimetype": "text/x-python",
   "name": "python",
   "nbconvert_exporter": "python",
   "pygments_lexer": "ipython3",
   "version": "3.6.8"
  }
 },
 "nbformat": 4,
 "nbformat_minor": 2
}
