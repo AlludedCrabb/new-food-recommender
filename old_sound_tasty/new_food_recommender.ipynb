{
 "cells": [
  {
   "cell_type": "markdown",
   "metadata": {},
   "source": [
    "I start off by importing the libraries I'm going to need for webscraping, EDA, and modeling. I also import my custom functions from a .py file"
   ]
  },
  {
   "cell_type": "code",
   "execution_count": 1,
   "metadata": {},
   "outputs": [],
   "source": [
    "from selenium.webdriver import Chrome\n",
    "import json\n",
    "import pandas as pd\n",
    "import gensim\n",
    "import pickle\n",
    "import functions as fc"
   ]
  },
  {
   "cell_type": "markdown",
   "metadata": {},
   "source": [
    "I then set up the web scraper with ease of access to a web blocker to install on the selenium instance. I do this because ads interfered with my webscraper on early attemtps. the urls below link to the main catagories on Allrecipes.com"
   ]
  },
  {
   "cell_type": "code",
   "execution_count": 2,
   "metadata": {},
   "outputs": [],
   "source": [
    "# browser = Chrome()\n",
    "\n",
    "\n",
    "# urls = [\"https://www.allrecipes.com/recipes/76/appetizers-and-snacks/\",\n",
    "#         \"https://www.allrecipes.com/recipes/156/bread/\",\n",
    "#         \"https://www.allrecipes.com/recipes/78/breakfast-and-brunch/\",\n",
    "#         \"https://www.allrecipes.com/recipes/276/desserts/cakes/\",\n",
    "#         \"https://www.allrecipes.com/recipes/201/meat-and-poultry/chicken/\",\n",
    "#         \"https://www.allrecipes.com/recipes/362/desserts/cookies/\",\n",
    "#         \"https://www.allrecipes.com/recipes/430/seafood/shellfish/shrimp/\",\n",
    "#         \"https://www.allrecipes.com/recipes/253/everyday-cooking/slow-cooker/\",\n",
    "#         \"https://www.allrecipes.com/recipes/1227/everyday-cooking/vegan/\",\n",
    "#         \"https://www.allrecipes.com/recipes/86/world-cuisine/\"]\n",
    "\n",
    "# browser.set_page_load_timeout(300)\n",
    "# browser.get('https://chrome.google.com/webstore/detail/adblock/gighmmpiobklfepjocnamgkkbiglidom')"
   ]
  },
  {
   "cell_type": "markdown",
   "metadata": {},
   "source": [
    "Below I have the selenium instance go to each url. Each url is a list page that doesn't load until you scrol down, so I have the instance scroll down a handful of times, then copy the links from each list entry. Once this is done, the instance goes from link to link to copy the recipe information from the appropriate html tags\n"
   ]
  },
  {
   "cell_type": "code",
   "execution_count": 3,
   "metadata": {
    "scrolled": false
   },
   "outputs": [],
   "source": [
    "# for url in urls:\n",
    "#     print(url)\n",
    "#     browser.get(url)\n",
    "\n",
    "#     for _ in range(6):\n",
    "#         browser.execute_script(\"window.scrollTo(0, document.body.scrollHeight);\")\n",
    "#         time.sleep(3 + random.random()*10)\n",
    "\n",
    "#     link_list = browser.find_elements_by_xpath('//*[contains(@class,\"fixed-recipe-card__info\")]/a')\n",
    "\n",
    "#     recipe_page_list = [link.get_attribute('href') for link in link_list]\n",
    "\n",
    "#     len(recipe_page_list)\n",
    "\n",
    "#     with open('recipes_list.json', 'a') as f:\n",
    "\n",
    "\n",
    "#         for recipe in recipe_page_list:\n",
    "\n",
    "#             browser.get(recipe)\n",
    "\n",
    "#             recipe_dict = {}\n",
    "            \n",
    "#             try:\n",
    "#                 recipe_dict['title'] = browser.find_element_by_xpath('//*[@id=\"recipe-main-content\"]').text\n",
    "#             except:\n",
    "#                 recipe_dict['title'] = browser.find_element_by_xpath('//*[contains(@class, \"intro article-info\")]/h1').text\n",
    "            \n",
    "#             try:\n",
    "#                 lala_list = browser.find_elements_by_xpath('//*[contains(@id,\"lst_ingred\")]')\n",
    "#                 item_list = []\n",
    "#                 for element in lala_list:\n",
    "\n",
    "#                     item_list += element.find_elements_by_css_selector('span')\n",
    "\n",
    "#                 ingredients = [item.text for item in item_list[:-1]]\n",
    "#                 recipe_dict['ingredients'] = ingredients\n",
    "            \n",
    "#             except:\n",
    "#                 lala_list = browser.find_elements_by_xpath('//*[contains(@class, \"ingredients-item-name\")]')\n",
    "\n",
    "#                 ingredients = [item.text for item in lala_list]\n",
    "#                 recipe_dict['ingredients'] = ingredients\n",
    "\n",
    "#             json.dump(recipe_dict, f)\n",
    "#             f.write('\\n')\n",
    "#             time.sleep(3 + random.random()*10)"
   ]
  },
  {
   "cell_type": "markdown",
   "metadata": {},
   "source": [
    "Now I bring the data in line by line from the json file it was stored in during scraping"
   ]
  },
  {
   "cell_type": "code",
   "execution_count": 4,
   "metadata": {},
   "outputs": [],
   "source": [
    "data = []\n",
    "with open('recipes_list.json') as file:\n",
    "    for line in file:\n",
    "        data.append(json.loads(line))\n"
   ]
  },
  {
   "cell_type": "markdown",
   "metadata": {},
   "source": [
    "Load it into a pandas dataframe for EDA"
   ]
  },
  {
   "cell_type": "code",
   "execution_count": 5,
   "metadata": {},
   "outputs": [],
   "source": [
    "df = pd.DataFrame(data)"
   ]
  },
  {
   "cell_type": "code",
   "execution_count": 6,
   "metadata": {},
   "outputs": [
    {
     "name": "stdout",
     "output_type": "stream",
     "text": [
      "<class 'pandas.core.frame.DataFrame'>\n",
      "RangeIndex: 929 entries, 0 to 928\n",
      "Data columns (total 2 columns):\n",
      "title          929 non-null object\n",
      "ingredients    929 non-null object\n",
      "dtypes: object(2)\n",
      "memory usage: 14.6+ KB\n"
     ]
    }
   ],
   "source": [
    "df.info()"
   ]
  },
  {
   "cell_type": "markdown",
   "metadata": {},
   "source": [
    "Some of the recipes scraped came back empty. Below I find their indices"
   ]
  },
  {
   "cell_type": "code",
   "execution_count": 7,
   "metadata": {
    "scrolled": false
   },
   "outputs": [
    {
     "name": "stdout",
     "output_type": "stream",
     "text": [
      "[]\n",
      "['', '', '', '', '', '', '', '', '', '']\n",
      "[]\n",
      "[]\n",
      "[]\n",
      "[]\n",
      "[]\n",
      "[]\n",
      "[]\n",
      "[]\n",
      "[]\n",
      "[]\n",
      "[]\n",
      "[]\n",
      "[]\n",
      "[60, 136, 217, 220, 222, 251, 436, 441, 509, 710, 713, 731, 778, 788, 867]\n"
     ]
    }
   ],
   "source": [
    "indices_list = []\n",
    "for i in range(len(df.ingredients)):\n",
    "    \n",
    "        try: \n",
    "            if df.ingredients[i][0] == '':\n",
    "                print(df.ingredients[i])\n",
    "                indices_list.append(i)\n",
    "                \n",
    "        except IndexError:\n",
    "            print(df.ingredients[i])\n",
    "            indices_list.append(i)\n",
    "\n",
    "\n",
    "print(indices_list)"
   ]
  },
  {
   "cell_type": "markdown",
   "metadata": {},
   "source": [
    "Drop the empty recipes and reindex the dataframe"
   ]
  },
  {
   "cell_type": "code",
   "execution_count": 8,
   "metadata": {},
   "outputs": [
    {
     "data": {
      "text/html": [
       "<div>\n",
       "<style scoped>\n",
       "    .dataframe tbody tr th:only-of-type {\n",
       "        vertical-align: middle;\n",
       "    }\n",
       "\n",
       "    .dataframe tbody tr th {\n",
       "        vertical-align: top;\n",
       "    }\n",
       "\n",
       "    .dataframe thead th {\n",
       "        text-align: right;\n",
       "    }\n",
       "</style>\n",
       "<table border=\"1\" class=\"dataframe\">\n",
       "  <thead>\n",
       "    <tr style=\"text-align: right;\">\n",
       "      <th></th>\n",
       "      <th>title</th>\n",
       "      <th>ingredients</th>\n",
       "    </tr>\n",
       "  </thead>\n",
       "  <tbody>\n",
       "    <tr>\n",
       "      <td>0</td>\n",
       "      <td>Grilled Shrimp Scampi Cocktail</td>\n",
       "      <td>[2 pounds unpeeled large shrimp, 2 tablespoons...</td>\n",
       "    </tr>\n",
       "    <tr>\n",
       "      <td>1</td>\n",
       "      <td>Easy Rumaki with Pineapple</td>\n",
       "      <td>[cooking spray, 24 (1 inch) cubes fresh pineap...</td>\n",
       "    </tr>\n",
       "    <tr>\n",
       "      <td>2</td>\n",
       "      <td>Perfect Crab-Stuffed Mushrooms</td>\n",
       "      <td>[2 tablespoons butter, 2 tablespoons minced gr...</td>\n",
       "    </tr>\n",
       "    <tr>\n",
       "      <td>3</td>\n",
       "      <td>Baked Buffalo Chicken Dip</td>\n",
       "      <td>[3 cups diced cooked rotisserie chicken, 2 (8 ...</td>\n",
       "    </tr>\n",
       "    <tr>\n",
       "      <td>4</td>\n",
       "      <td>Strawberry Bruschetta</td>\n",
       "      <td>[24 slices French baguette, 1 tablespoon butte...</td>\n",
       "    </tr>\n",
       "  </tbody>\n",
       "</table>\n",
       "</div>"
      ],
      "text/plain": [
       "                            title  \\\n",
       "0  Grilled Shrimp Scampi Cocktail   \n",
       "1      Easy Rumaki with Pineapple   \n",
       "2  Perfect Crab-Stuffed Mushrooms   \n",
       "3       Baked Buffalo Chicken Dip   \n",
       "4           Strawberry Bruschetta   \n",
       "\n",
       "                                         ingredients  \n",
       "0  [2 pounds unpeeled large shrimp, 2 tablespoons...  \n",
       "1  [cooking spray, 24 (1 inch) cubes fresh pineap...  \n",
       "2  [2 tablespoons butter, 2 tablespoons minced gr...  \n",
       "3  [3 cups diced cooked rotisserie chicken, 2 (8 ...  \n",
       "4  [24 slices French baguette, 1 tablespoon butte...  "
      ]
     },
     "execution_count": 8,
     "metadata": {},
     "output_type": "execute_result"
    }
   ],
   "source": [
    "to_be_reindexed_df = df.drop(indices_list)\n",
    "\n",
    "clean_df = to_be_reindexed_df.reset_index(drop=True)\n",
    "clean_df.head()"
   ]
  },
  {
   "cell_type": "code",
   "execution_count": 9,
   "metadata": {},
   "outputs": [
    {
     "data": {
      "text/plain": [
       "['2 pounds unpeeled large shrimp',\n",
       " '2 tablespoons olive oil',\n",
       " '1 teaspoon minced garlic',\n",
       " '1/4 teaspoon salt',\n",
       " '1/8 teaspoon freshly ground black pepper',\n",
       " '1 cup cocktail sauce',\n",
       " '1 lemon, cut into wedges']"
      ]
     },
     "execution_count": 9,
     "metadata": {},
     "output_type": "execute_result"
    }
   ],
   "source": [
    "clean_df.ingredients[0]"
   ]
  },
  {
   "cell_type": "markdown",
   "metadata": {},
   "source": [
    "Run my cleaning functions on the ingredients, removing amounts and measurements, as well as cooking stop words and some brand names. Then split into individual words"
   ]
  },
  {
   "cell_type": "code",
   "execution_count": 10,
   "metadata": {},
   "outputs": [],
   "source": [
    "clean_df.ingredients = clean_df.ingredients.map(fc.clean_ingredients)\n",
    "\n",
    "clean_df.ingredients = clean_df.ingredients.map(fc.lower_list_strings)"
   ]
  },
  {
   "cell_type": "markdown",
   "metadata": {},
   "source": [
    "See the results"
   ]
  },
  {
   "cell_type": "code",
   "execution_count": 11,
   "metadata": {},
   "outputs": [
    {
     "data": {
      "text/plain": [
       "['shrimp',\n",
       " 'olive',\n",
       " 'oil',\n",
       " 'garlic',\n",
       " 'salt',\n",
       " 'black',\n",
       " 'pepper',\n",
       " 'cocktail',\n",
       " 'sauce',\n",
       " 'lemon']"
      ]
     },
     "execution_count": 11,
     "metadata": {},
     "output_type": "execute_result"
    }
   ],
   "source": [
    "clean_df.ingredients[0]"
   ]
  },
  {
   "cell_type": "markdown",
   "metadata": {},
   "source": [
    "Use Phrase detection for ingredients with multiple words"
   ]
  },
  {
   "cell_type": "code",
   "execution_count": 12,
   "metadata": {
    "scrolled": true
   },
   "outputs": [
    {
     "data": {
      "text/plain": [
       "['shrimp',\n",
       " 'olive oil',\n",
       " 'garlic',\n",
       " 'salt black',\n",
       " 'pepper',\n",
       " 'cocktail',\n",
       " 'sauce',\n",
       " 'lemon']"
      ]
     },
     "execution_count": 12,
     "metadata": {},
     "output_type": "execute_result"
    }
   ],
   "source": [
    "from gensim.models.phrases import Phrases, Phraser\n",
    "phrases = Phrases(clean_df.ingredients, min_count=1, threshold=3, delimiter=b\" \")\n",
    "phrases[clean_df.ingredients[0]]"
   ]
  },
  {
   "cell_type": "code",
   "execution_count": 13,
   "metadata": {},
   "outputs": [],
   "source": [
    "test_phrase_corpus = [list(set(phrases[x])) for x in clean_df.ingredients]"
   ]
  },
  {
   "cell_type": "code",
   "execution_count": 14,
   "metadata": {},
   "outputs": [
    {
     "data": {
      "text/plain": [
       "['white wine',\n",
       " 'bread crumbs',\n",
       " 'crabmeat',\n",
       " 'monterey jack',\n",
       " 'onion',\n",
       " 'button mushrooms',\n",
       " 'cheese',\n",
       " 'lemon juice',\n",
       " 'butter',\n",
       " 'egg',\n",
       " 'dill weed',\n",
       " 'green']"
      ]
     },
     "execution_count": 14,
     "metadata": {},
     "output_type": "execute_result"
    }
   ],
   "source": [
    "test_phrase_corpus[2]"
   ]
  },
  {
   "cell_type": "code",
   "execution_count": 15,
   "metadata": {},
   "outputs": [],
   "source": [
    "clean_df.ingredients = test_phrase_corpus"
   ]
  },
  {
   "cell_type": "code",
   "execution_count": 16,
   "metadata": {},
   "outputs": [
    {
     "data": {
      "text/html": [
       "<div>\n",
       "<style scoped>\n",
       "    .dataframe tbody tr th:only-of-type {\n",
       "        vertical-align: middle;\n",
       "    }\n",
       "\n",
       "    .dataframe tbody tr th {\n",
       "        vertical-align: top;\n",
       "    }\n",
       "\n",
       "    .dataframe thead th {\n",
       "        text-align: right;\n",
       "    }\n",
       "</style>\n",
       "<table border=\"1\" class=\"dataframe\">\n",
       "  <thead>\n",
       "    <tr style=\"text-align: right;\">\n",
       "      <th></th>\n",
       "      <th>title</th>\n",
       "      <th>ingredients</th>\n",
       "    </tr>\n",
       "  </thead>\n",
       "  <tbody>\n",
       "    <tr>\n",
       "      <td>0</td>\n",
       "      <td>Grilled Shrimp Scampi Cocktail</td>\n",
       "      <td>[sauce, cocktail, shrimp, pepper, salt black, ...</td>\n",
       "    </tr>\n",
       "    <tr>\n",
       "      <td>1</td>\n",
       "      <td>Easy Rumaki with Pineapple</td>\n",
       "      <td>[pineapple, bacon, onion, sesameginger, water,...</td>\n",
       "    </tr>\n",
       "    <tr>\n",
       "      <td>2</td>\n",
       "      <td>Perfect Crab-Stuffed Mushrooms</td>\n",
       "      <td>[white wine, bread crumbs, crabmeat, monterey ...</td>\n",
       "    </tr>\n",
       "    <tr>\n",
       "      <td>3</td>\n",
       "      <td>Baked Buffalo Chicken Dip</td>\n",
       "      <td>[blue cheese, seasoning cayenne, sauce, pepper...</td>\n",
       "    </tr>\n",
       "    <tr>\n",
       "      <td>4</td>\n",
       "      <td>Strawberry Bruschetta</td>\n",
       "      <td>[strawberries, white sugar, butter, baguette]</td>\n",
       "    </tr>\n",
       "  </tbody>\n",
       "</table>\n",
       "</div>"
      ],
      "text/plain": [
       "                            title  \\\n",
       "0  Grilled Shrimp Scampi Cocktail   \n",
       "1      Easy Rumaki with Pineapple   \n",
       "2  Perfect Crab-Stuffed Mushrooms   \n",
       "3       Baked Buffalo Chicken Dip   \n",
       "4           Strawberry Bruschetta   \n",
       "\n",
       "                                         ingredients  \n",
       "0  [sauce, cocktail, shrimp, pepper, salt black, ...  \n",
       "1  [pineapple, bacon, onion, sesameginger, water,...  \n",
       "2  [white wine, bread crumbs, crabmeat, monterey ...  \n",
       "3  [blue cheese, seasoning cayenne, sauce, pepper...  \n",
       "4      [strawberries, white sugar, butter, baguette]  "
      ]
     },
     "execution_count": 16,
     "metadata": {},
     "output_type": "execute_result"
    }
   ],
   "source": [
    "clean_df.head()"
   ]
  },
  {
   "cell_type": "markdown",
   "metadata": {},
   "source": [
    "Vectorize the ingredient words"
   ]
  },
  {
   "cell_type": "code",
   "execution_count": 17,
   "metadata": {},
   "outputs": [
    {
     "data": {
      "text/plain": [
       "(28421, 45365)"
      ]
     },
     "execution_count": 17,
     "metadata": {},
     "output_type": "execute_result"
    }
   ],
   "source": [
    "model = gensim.models.Word2Vec(test_phrase_corpus, min_count=1, sg=1, iter=5)\n",
    "\n",
    "model.train(test_phrase_corpus,\n",
    "            total_examples=model.corpus_count,\n",
    "            epochs=model.epochs)"
   ]
  },
  {
   "cell_type": "code",
   "execution_count": 18,
   "metadata": {},
   "outputs": [
    {
     "data": {
      "text/plain": [
       "9073"
      ]
     },
     "execution_count": 18,
     "metadata": {},
     "output_type": "execute_result"
    }
   ],
   "source": [
    "model.corpus_total_words"
   ]
  },
  {
   "cell_type": "code",
   "execution_count": 19,
   "metadata": {},
   "outputs": [
    {
     "data": {
      "text/plain": [
       "<gensim.models.keyedvectors.Word2VecKeyedVectors at 0x1a201adf98>"
      ]
     },
     "execution_count": 19,
     "metadata": {},
     "output_type": "execute_result"
    }
   ],
   "source": [
    "model.wv"
   ]
  },
  {
   "cell_type": "markdown",
   "metadata": {},
   "source": [
    "Test to see similar ingredient vectors"
   ]
  },
  {
   "cell_type": "code",
   "execution_count": 20,
   "metadata": {},
   "outputs": [
    {
     "data": {
      "text/plain": [
       "[('cumin chili', 0.9990131855010986),\n",
       " ('seasoning', 0.9989742040634155),\n",
       " ('taco seasoning', 0.9989513754844666),\n",
       " ('bacon', 0.9988808631896973),\n",
       " ('red wine', 0.9987039566040039),\n",
       " ('pasta', 0.9986863732337952),\n",
       " ('bread crumbs', 0.9986189603805542),\n",
       " ('beef broth', 0.9985734224319458),\n",
       " ('kidney beans', 0.9984255433082581),\n",
       " ('white wine', 0.9984251856803894)]"
      ]
     },
     "execution_count": 20,
     "metadata": {},
     "output_type": "execute_result"
    }
   ],
   "source": [
    "model.wv.most_similar(positive=[\"cheddar cheese\"])"
   ]
  },
  {
   "cell_type": "markdown",
   "metadata": {},
   "source": [
    "Function to return recipes with ingredient vectors similar to input vectors"
   ]
  },
  {
   "cell_type": "code",
   "execution_count": 21,
   "metadata": {
    "scrolled": true
   },
   "outputs": [
    {
     "name": "stdout",
     "output_type": "stream",
     "text": [
      "chicken\n",
      "bacon\n",
      "beef\n",
      "cheese\n"
     ]
    },
    {
     "data": {
      "text/plain": [
       "[{'Title': 'Arrabbiata Sauce',\n",
       "  'Ingreds': ['tomatoes',\n",
       "   'parsley',\n",
       "   'red wine',\n",
       "   'onion',\n",
       "   'seasoning',\n",
       "   'pepper',\n",
       "   'garlic',\n",
       "   'white sugar',\n",
       "   'lemon juice',\n",
       "   'red',\n",
       "   'olive oil',\n",
       "   'tomato paste',\n",
       "   'black pepper',\n",
       "   'basil']},\n",
       " {'Title': 'Hot Bean Dip',\n",
       "  'Ingreds': ['cheddar cheese',\n",
       "   'sauce',\n",
       "   'monterey jack',\n",
       "   'taco seasoning',\n",
       "   'cheese',\n",
       "   'cream cheese',\n",
       "   'sour cream',\n",
       "   'green onions',\n",
       "   'hot pepper',\n",
       "   'parsley',\n",
       "   'refried beans']},\n",
       " {'Title': 'Chicken Enchiladas I',\n",
       "  'Ingreds': ['cheddar cheese',\n",
       "   'clove garlic',\n",
       "   'tomato sauce',\n",
       "   'flour tortillas',\n",
       "   'salt',\n",
       "   'sauce',\n",
       "   'onion',\n",
       "   'parsley oregano',\n",
       "   'pepper',\n",
       "   'taco',\n",
       "   'water',\n",
       "   'green bell',\n",
       "   'chicken',\n",
       "   'chili powder',\n",
       "   'black pepper',\n",
       "   'sour cream']},\n",
       " {'Title': 'Tomato Chicken Parmesan',\n",
       "  'Ingreds': ['bread crumbs',\n",
       "   'parmesan cheese',\n",
       "   'sauce',\n",
       "   'monterey jack',\n",
       "   'cheese',\n",
       "   'pasta',\n",
       "   'eggs',\n",
       "   'chicken',\n",
       "   'vegetable oil']},\n",
       " {'Title': 'Basil Chicken over Angel Hair',\n",
       "  'Ingreds': ['tomatoes',\n",
       "   'parmesan cheese',\n",
       "   'salt',\n",
       "   'sauce',\n",
       "   'pasta olive',\n",
       "   'onion clove',\n",
       "   'garlic',\n",
       "   'hot pepper',\n",
       "   'oil',\n",
       "   'chicken',\n",
       "   'basil']},\n",
       " {'Title': 'Shrimp Scampi',\n",
       "  'Ingreds': ['white wine',\n",
       "   'parmesan cheese',\n",
       "   'shrimp',\n",
       "   'garlic',\n",
       "   'butter',\n",
       "   'pasta',\n",
       "   'parsley',\n",
       "   'black pepper']},\n",
       " {'Title': 'Tangy Slow Cooker Pork Roast',\n",
       "  'Ingreds': ['salt',\n",
       "   'sauce',\n",
       "   'onion',\n",
       "   'hot water',\n",
       "   'red wine',\n",
       "   'roast',\n",
       "   'garlic',\n",
       "   'white sugar',\n",
       "   'vinegar soy',\n",
       "   'powder',\n",
       "   'hot pepper',\n",
       "   'pork loin',\n",
       "   'black pepper',\n",
       "   'sauce ketchup']},\n",
       " {'Title': 'Italian Sausage Soup',\n",
       "  'Ingreds': ['clove garlic',\n",
       "   'tomatoes',\n",
       "   'beef broth',\n",
       "   'black pepper',\n",
       "   'salt',\n",
       "   'sausage',\n",
       "   'beans',\n",
       "   'carrots',\n",
       "   'northern',\n",
       "   'spinach',\n",
       "   'zucchini',\n",
       "   'great']},\n",
       " {'Title': 'French Onion Soup Gratinee',\n",
       "  'Ingreds': ['beef broth',\n",
       "   'salt',\n",
       "   'red wine',\n",
       "   'balsamic vinegar',\n",
       "   'chicken broth',\n",
       "   'sprig',\n",
       "   'leaf',\n",
       "   'parsley',\n",
       "   'bread',\n",
       "   'butter',\n",
       "   'pinches',\n",
       "   'gruyere',\n",
       "   'swiss cheese',\n",
       "   'salt black',\n",
       "   'worcestershire sauce',\n",
       "   'mozzarella cheese',\n",
       "   'paprika',\n",
       "   'thyme bay',\n",
       "   'asiago',\n",
       "   'pepper',\n",
       "   'red',\n",
       "   'onions',\n",
       "   'sprigs']},\n",
       " {'Title': 'Basil Chicken over Angel Hair',\n",
       "  'Ingreds': ['tomatoes',\n",
       "   'parmesan cheese',\n",
       "   'salt',\n",
       "   'sauce',\n",
       "   'pasta olive',\n",
       "   'onion clove',\n",
       "   'garlic',\n",
       "   'hot pepper',\n",
       "   'oil',\n",
       "   'chicken',\n",
       "   'basil']}]"
      ]
     },
     "execution_count": 21,
     "metadata": {},
     "output_type": "execute_result"
    }
   ],
   "source": [
    "fc.sound_tasty(model, clean_df.ingredients, clean_df.title)"
   ]
  },
  {
   "cell_type": "markdown",
   "metadata": {},
   "source": [
    "Save model and columns to pickle files"
   ]
  },
  {
   "cell_type": "code",
   "execution_count": 22,
   "metadata": {},
   "outputs": [],
   "source": [
    "# pickle.dump(model, open('ingred_model.pkl', 'wb'))\n",
    "\n",
    "# pickle.dump(clean_df.ingredients, open('ingredients.pkl', 'wb'))\n",
    "\n",
    "# pickle.dump(clean_df.title, open('title.pkl', 'wb'))"
   ]
  },
  {
   "cell_type": "code",
   "execution_count": null,
   "metadata": {},
   "outputs": [],
   "source": []
  }
 ],
 "metadata": {
  "kernelspec": {
   "display_name": "learn-env",
   "language": "python",
   "name": "learn-env"
  },
  "language_info": {
   "codemirror_mode": {
    "name": "ipython",
    "version": 3
   },
   "file_extension": ".py",
   "mimetype": "text/x-python",
   "name": "python",
   "nbconvert_exporter": "python",
   "pygments_lexer": "ipython3",
   "version": "3.6.9"
  }
 },
 "nbformat": 4,
 "nbformat_minor": 2
}
