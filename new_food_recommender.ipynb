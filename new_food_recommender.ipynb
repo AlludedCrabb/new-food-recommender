{
 "cells": [
  {
   "cell_type": "code",
   "execution_count": 1,
   "metadata": {},
   "outputs": [],
   "source": [
    "from selenium.webdriver import Chrome\n",
    "import time\n",
    "import random\n",
    "import json"
   ]
  },
  {
   "cell_type": "code",
   "execution_count": 2,
   "metadata": {},
   "outputs": [],
   "source": [
    "browser = Chrome()\n",
    "\n",
    "urls = [\"https://www.allrecipes.com/recipes/76/appetizers-and-snacks/\",\n",
    "        \"https://www.allrecipes.com/recipes/156/bread/\",\n",
    "        \"https://www.allrecipes.com/recipes/78/breakfast-and-brunch/\",\n",
    "        \"https://www.allrecipes.com/recipes/276/desserts/cakes/\",\n",
    "        \"https://www.allrecipes.com/recipes/201/meat-and-poultry/chicken/\",\n",
    "        \"https://www.allrecipes.com/recipes/362/desserts/cookies/\",\n",
    "        \"https://www.allrecipes.com/recipes/430/seafood/shellfish/shrimp/\",\n",
    "        \"https://www.allrecipes.com/recipes/253/everyday-cooking/slow-cooker/\",\n",
    "        \"https://www.allrecipes.com/recipes/1227/everyday-cooking/vegan/\",\n",
    "        \"https://www.allrecipes.com/recipes/86/world-cuisine/\"]"
   ]
  },
  {
   "cell_type": "code",
   "execution_count": null,
   "metadata": {},
   "outputs": [],
   "source": [
    "for url in urls:\n",
    "    \n",
    "    browser.get(url)\n",
    "\n",
    "    for _ in range(6):\n",
    "        browser.execute_script(\"window.scrollTo(0, document.body.scrollHeight);\")\n",
    "        time.sleep(3 + random.random()*10)\n",
    "\n",
    "    link_list = browser.find_elements_by_xpath('//*[contains(@class,\"fixed-recipe-card__info\")]/a')\n",
    "\n",
    "    recipe_page_list = [link.get_attribute('href') for link in link_list]\n",
    "\n",
    "    len(recipe_page_list)\n",
    "\n",
    "    with open('recipes_list.json', 'w') as f:\n",
    "\n",
    "\n",
    "        for recipe in recipe_page_list:\n",
    "\n",
    "            browser.get(recipe)\n",
    "\n",
    "            recipe_dict = {}\n",
    "            recipe_dict['title'] = browser.find_element_by_xpath('//*[@id=\"recipe-main-content\"]').text\n",
    "\n",
    "            lala_list = browser.find_elements_by_xpath('//*[contains(@id,\"lst_ingred\")]')\n",
    "\n",
    "            item_list = []\n",
    "            for element in lala_list:\n",
    "\n",
    "                item_list += element.find_elements_by_css_selector('span')\n",
    "\n",
    "            ingredients = [item.text for item in item_list[:-1]]\n",
    "            recipe_dict['ingredients'] = ingredients\n",
    "\n",
    "            json.dump(recipe_dict, f)\n",
    "            f.write('\\n')\n",
    "            time.sleep(3 + random.random()*10)"
   ]
  },
  {
   "cell_type": "code",
   "execution_count": null,
   "metadata": {},
   "outputs": [],
   "source": []
  }
 ],
 "metadata": {
  "kernelspec": {
   "display_name": "learn-env",
   "language": "python",
   "name": "learn-env"
  },
  "language_info": {
   "codemirror_mode": {
    "name": "ipython",
    "version": 3
   },
   "file_extension": ".py",
   "mimetype": "text/x-python",
   "name": "python",
   "nbconvert_exporter": "python",
   "pygments_lexer": "ipython3",
   "version": "3.6.8"
  }
 },
 "nbformat": 4,
 "nbformat_minor": 2
}
